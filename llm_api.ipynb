{
  "nbformat": 4,
  "nbformat_minor": 0,
  "metadata": {
    "colab": {
      "provenance": []
    },
    "kernelspec": {
      "name": "python3",
      "display_name": "Python 3"
    },
    "language_info": {
      "name": "python"
    }
  },
  "cells": [
    {
      "cell_type": "markdown",
      "source": [
        "## git repo 연결 (ai)\n",
        "\n",
        "실행"
      ],
      "metadata": {
        "id": "-OU6rC3EFtoA"
      }
    },
    {
      "cell_type": "code",
      "source": [
        "!git clone https://github.com/na1-4an/SQuiz.git"
      ],
      "metadata": {
        "colab": {
          "base_uri": "https://localhost:8080/"
        },
        "id": "IlDos7ckFfwd",
        "outputId": "49ff6056-a54a-4478-9db6-7cdcbd940dff"
      },
      "execution_count": 18,
      "outputs": [
        {
          "output_type": "stream",
          "name": "stdout",
          "text": [
            "Cloning into 'SQuiz'...\n",
            "remote: Enumerating objects: 717, done.\u001b[K\n",
            "remote: Counting objects: 100% (171/171), done.\u001b[K\n",
            "remote: Compressing objects: 100% (128/128), done.\u001b[K\n",
            "remote: Total 717 (delta 33), reused 120 (delta 15), pack-reused 546\u001b[K\n",
            "Receiving objects: 100% (717/717), 9.44 MiB | 10.90 MiB/s, done.\n",
            "Resolving deltas: 100% (190/190), done.\n"
          ]
        }
      ]
    },
    {
      "cell_type": "code",
      "source": [
        "cd SQuiz"
      ],
      "metadata": {
        "colab": {
          "base_uri": "https://localhost:8080/"
        },
        "id": "rw-ifCcsFpgL",
        "outputId": "c0991d1b-82a1-44c3-c863-0d4271bb3d21"
      },
      "execution_count": 20,
      "outputs": [
        {
          "output_type": "stream",
          "name": "stdout",
          "text": [
            "/content/SQuiz\n"
          ]
        }
      ]
    },
    {
      "cell_type": "code",
      "source": [
        "!git checkout origin/ai"
      ],
      "metadata": {
        "colab": {
          "base_uri": "https://localhost:8080/"
        },
        "id": "ZfkGmkaQFjNV",
        "outputId": "9d46a836-9684-4c6c-cdd3-6fe252f11e8a"
      },
      "execution_count": 21,
      "outputs": [
        {
          "output_type": "stream",
          "name": "stdout",
          "text": [
            "Note: switching to 'origin/ai'.\n",
            "\n",
            "You are in 'detached HEAD' state. You can look around, make experimental\n",
            "changes and commit them, and you can discard any commits you make in this\n",
            "state without impacting any branches by switching back to a branch.\n",
            "\n",
            "If you want to create a new branch to retain commits you create, you may\n",
            "do so (now or later) by using -c with the switch command. Example:\n",
            "\n",
            "  git switch -c <new-branch-name>\n",
            "\n",
            "Or undo this operation with:\n",
            "\n",
            "  git switch -\n",
            "\n",
            "Turn off this advice by setting config variable advice.detachedHead to false\n",
            "\n",
            "HEAD is now at ba74363 ➕ Add pdf to text datasets\n"
          ]
        }
      ]
    },
    {
      "cell_type": "markdown",
      "source": [
        "## pdf to txt"
      ],
      "metadata": {
        "id": "qcIpowuXpMJk"
      }
    },
    {
      "cell_type": "code",
      "source": [
        "!pip install PyPDF2"
      ],
      "metadata": {
        "colab": {
          "base_uri": "https://localhost:8080/"
        },
        "id": "dYlZm-EQQLku",
        "outputId": "354bcd95-082d-4cad-9087-1a82c7c65b7a"
      },
      "execution_count": null,
      "outputs": [
        {
          "output_type": "stream",
          "name": "stdout",
          "text": [
            "Collecting PyPDF2\n",
            "  Downloading pypdf2-3.0.1-py3-none-any.whl (232 kB)\n",
            "\u001b[?25l     \u001b[90m━━━━━━━━━━━━━━━━━━━━━━━━━━━━━━━━━━━━━━━━\u001b[0m \u001b[32m0.0/232.6 kB\u001b[0m \u001b[31m?\u001b[0m eta \u001b[36m-:--:--\u001b[0m\r\u001b[2K     \u001b[91m━━━━━━━━━━━━━━━━━━━━━━━━━━━━━━━━━━━\u001b[0m\u001b[90m╺\u001b[0m\u001b[90m━━━━\u001b[0m \u001b[32m204.8/232.6 kB\u001b[0m \u001b[31m6.0 MB/s\u001b[0m eta \u001b[36m0:00:01\u001b[0m\r\u001b[2K     \u001b[90m━━━━━━━━━━━━━━━━━━━━━━━━━━━━━━━━━━━━━━━━\u001b[0m \u001b[32m232.6/232.6 kB\u001b[0m \u001b[31m5.4 MB/s\u001b[0m eta \u001b[36m0:00:00\u001b[0m\n",
            "\u001b[?25hInstalling collected packages: PyPDF2\n",
            "Successfully installed PyPDF2-3.0.1\n"
          ]
        }
      ]
    },
    {
      "cell_type": "code",
      "execution_count": null,
      "metadata": {
        "id": "48HkLYHaOjve"
      },
      "outputs": [],
      "source": [
        "import PyPDF2\n",
        "import os"
      ]
    },
    {
      "cell_type": "code",
      "source": [
        "def extract_text_from_pdf(pdf_path, txt_path, start_page=None, end_page=None):\n",
        "    with open(pdf_path, 'rb') as file:\n",
        "        reader = PyPDF2.PdfReader(file)\n",
        "        text = \"\"\n",
        "\n",
        "        if not start_page:\n",
        "            start_page = 0\n",
        "\n",
        "        else:\n",
        "            start_page -= 1\n",
        "\n",
        "        if not end_page or end_page > len(reader.pages):\n",
        "            end_page = len(reader.pages)\n",
        "\n",
        "        for page_num in range(start_page, end_page):\n",
        "            text += \"\\n<\" + str(page_num) + \">\\n\"\n",
        "            text += reader.pages[page_num].extract_text()\n",
        "\n",
        "\n",
        "    with open(txt_path, 'w', encoding='utf-8') as txt_file:\n",
        "        txt_file.write(text)"
      ],
      "metadata": {
        "id": "0Nq5HXHTOou3"
      },
      "execution_count": null,
      "outputs": []
    },
    {
      "cell_type": "code",
      "source": [
        "def list_pdf_files_in_directory(directory):\n",
        "    return [f for f in os.listdir(directory) if f.endswith('.pdf')]"
      ],
      "metadata": {
        "id": "UywbyUeqOrDh"
      },
      "execution_count": null,
      "outputs": []
    },
    {
      "cell_type": "code",
      "source": [
        "if __name__ == \"__main__\":\n",
        "    #directory = input(\"pdf 파일 경로를 입력하세요: \")\n",
        "    # pdf_files = list_pdf_files_in_directory(directory)\n",
        "\n",
        "    # for idx, pdf_file in enumerate(pdf_files, 1):\n",
        "    #     print(f\"{idx}. {pdf_file}\")\n",
        "\n",
        "    # selection = int(input(\"이 중에 원하시는 파일의 번호를 골라주세요: \"))\n",
        "    # pdf_path = os.path.join(directory, pdf_files[selection - 1])\n",
        "\n",
        "    # page_range = input(\"원하는 페이지 수를 -를 사용하여 입력해주세요. 만약 전체 페이지를 원하시면 ALL을 입력해주세요: \")\n",
        "\n",
        "    # if page_range != \"ALL\":\n",
        "    #     start_page, end_page = map(int, page_range.split('-'))\n",
        "\n",
        "    # else:\n",
        "    #     start_page, end_page = None, None\n",
        "\n",
        "    # txt_directory = input(\"txt 파일 경로를 입력해주세요: \")\n",
        "    # txt_filename = input(\"파일 이름을 확장자를 포함하여 입력해주세요: \")\n",
        "    # txt_path = os.path.join(txt_directory, txt_filename)\n",
        "\n",
        "    pdf_path = \"/content/제10장 배열(강의).pdf\"\n",
        "    txt_path = \"/content/제10장 배열(강의).txt\"\n",
        "\n",
        "    extract_text_from_pdf(pdf_path, txt_path)\n",
        "\n",
        "    pdf_path = \"/content/제11장 포인터(강의).pdf\"\n",
        "    txt_path = \"/content/제11장 포인터(강의).txt\"\n",
        "    extract_text_from_pdf(pdf_path, txt_path)\n"
      ],
      "metadata": {
        "id": "rcyiESYNO2h9"
      },
      "execution_count": null,
      "outputs": []
    },
    {
      "cell_type": "markdown",
      "source": [
        "## gpt api setting\n",
        "\n",
        "1. library 다운로드\n",
        "\n",
        "2. OpenAI 객체 생성 (API key)\n"
      ],
      "metadata": {
        "id": "TIp74S91pJUX"
      }
    },
    {
      "cell_type": "code",
      "execution_count": null,
      "metadata": {
        "id": "87v4yckNjELA"
      },
      "outputs": [],
      "source": [
        "!pip install --upgrade openai"
      ]
    },
    {
      "cell_type": "code",
      "source": [
        "from openai import OpenAI\n",
        "\n",
        "client = OpenAI(\n",
        "  api_key=os.environ.get(\"OPENAI_API_KEY\"),\n",
        ")"
      ],
      "metadata": {
        "id": "xsuc22Gejxjx"
      },
      "execution_count": null,
      "outputs": []
    },
    {
      "cell_type": "markdown",
      "source": [
        "## txt to jsonl (API call)"
      ],
      "metadata": {
        "id": "SucynYQ3pQUz"
      }
    },
    {
      "cell_type": "markdown",
      "source": [
        "/SQuiz/test/txt에 있는 txt 파일들 불러오고 공백 제거"
      ],
      "metadata": {
        "id": "kDbVm9TJF-uy"
      }
    },
    {
      "cell_type": "code",
      "source": [
        "import os\n",
        "\n",
        "def load_txt(dir_path):\n",
        "\n",
        "  ## 경로 내의 모든 txt 파일 불러옴\n",
        "  file_list = os.listdif(dir_path)\n",
        "  txt_file_list = [file for file in file_list if file.endswith('.txt')]\n",
        "\n",
        "  txt = [] # 각 pdf의 텍스트 저장할 배열\n",
        "\n",
        "  ## txt 파일 내의 공백 제거\n",
        "  for path in txt_file_list:\n",
        "    with open(path, 'r') as f:\n",
        "      raw = f.read().replace('\\n', ' ') # 개행 문자 -> 공백으로 변경\n",
        "      txt.append(raw)\n",
        "\n",
        "  return txt"
      ],
      "metadata": {
        "id": "ATV7wtXEHIKV"
      },
      "execution_count": null,
      "outputs": []
    },
    {
      "cell_type": "code",
      "source": [
        "def create_msg(subject, pdftxt):\n",
        "  msg = []\n",
        "\n",
        "  system_json = {\"role\": \"system\"}\n",
        "  system_json[\"content\"] = \"You will be provided with a thesis abstract and a suggested title for it. The thesis title should give the reader a good idea of the topic of the thesis but should also be eye-catching. If the title does not meet these criteria, suggest 5 alternatives.\"\n",
        "\n",
        "  user_json = {\"role\": \"user\"}\n",
        "  user_json[\"content\"] = pdftxt\n",
        "\n",
        "  msg.append(system_json)\n",
        "  msg.append(user_json)\n",
        "\n",
        "  return msg"
      ],
      "metadata": {
        "id": "h5cxrgzAr_3M"
      },
      "execution_count": 10,
      "outputs": []
    },
    {
      "cell_type": "code",
      "source": [
        "def create_req(msg, model=\"gpt-3.5-turbo\", max_token=25, top_p=1, frequency_penalty=0, presence_penalty=0):\n",
        "  req = {}\n",
        "  req[\"model\"] = model\n",
        "  req[\"message\"] = msg\n",
        "  req[\"max_tokens\"] = max_tokens\n",
        "  req[\"top_p\"] = top_p\n",
        "  req[\"frequency_penalty\"] = frequency_penalty\n",
        "  req[\"presence_penalty\"] = presence_penalty\n",
        "  return req"
      ],
      "metadata": {
        "id": "EfaKQsPLslLB"
      },
      "execution_count": 15,
      "outputs": []
    },
    {
      "cell_type": "code",
      "source": [
        "txt = load_txt(\"/content/SQuiz/test/txt\")\n",
        "model = \"gpt-3.5-turbo\"\n",
        "max_tokens=25\n",
        "top_p=1\n",
        "frequency_penalty=0\n",
        "presence_penalty=0\n",
        "\n",
        "msg = create_msg(0, txt[0])\n",
        "req = create_req(msg, model, max_tokens, top_p, frequency_penalty, presence_penalty)\n",
        "#reponse = client.chat.completions.create(req)"
      ],
      "metadata": {
        "id": "faPGh0UqsImw"
      },
      "execution_count": null,
      "outputs": []
    },
    {
      "cell_type": "markdown",
      "source": [
        "response 받기"
      ],
      "metadata": {
        "id": "HgcsMByLwHcA"
      }
    },
    {
      "cell_type": "code",
      "source": [
        "msg = create_msg(0, txt[1]) #과목과 pdf2txt 내용을 넣음\n",
        "\n",
        "response = client.chat.completions.create(\n",
        "  model='gpt-3.5-turbo',\n",
        "  message=msg,\n",
        "  max_tokens=256,\n",
        "  top_p=1,\n",
        "  frequency_penalty=0,\n",
        "  presence_penalty=0\n",
        ")"
      ],
      "metadata": {
        "id": "GN4P4y0XufOQ"
      },
      "execution_count": null,
      "outputs": []
    },
    {
      "cell_type": "markdown",
      "source": [
        "prompt"
      ],
      "metadata": {
        "id": "Nusct6TOK_EZ"
      }
    },
    {
      "cell_type": "code",
      "source": [
        "#prompt 조정용 코드\n",
        "completion = client.chat.completions.create(\n",
        "  model='gpt-3.5-turbo',\n",
        "  message=[\n",
        "      ##여기를 수정\n",
        "      { \"role\": \"system\",\n",
        "        \"content\": \"You will be provided with a thesis abstract and a suggested title for it. The thesis title should give the reader a good idea of the topic of the thesis but should also be eye-catching. If the title does not meet these criteria, suggest 5 alternatives.\"\n",
        "      },\n",
        "      ##여기에는 pdf 내용을 입력 (여기 텍스트 포맷도 수정)\n",
        "      { \"role\": \"user\",\n",
        "        \"content\": txt[0]\n",
        "      }\n",
        "  ],\n",
        "  max_tokens=256,\n",
        "  top_p=1,\n",
        "  frequency_penalty=0,\n",
        "  presence_penalty=0\n",
        ")\n",
        "\n",
        "print(completion.choices[0].message)"
      ],
      "metadata": {
        "id": "73u6v-WpwRX7"
      },
      "execution_count": null,
      "outputs": []
    },
    {
      "cell_type": "code",
      "source": [
        "<0>Introduction1-1Chapter 1IntroductionComputer Networking: A Top DownApproach A note on the use of these Powerpoint slides:We’re making these slides freely available to all (faculty, students, readers). They’re in PowerPoint form so you see the animations; and can add, modify, and delete slides  (including this one) and slide content to suit your needs. They obviously represent a lotof work on our part. In return for use, we only ask the following:§If you use these slides (e.g., in a class) that you mention their source (after all, we’d like people to use our book!)§If you post any slides on a www site, that you note that they are adapted from (or perhaps identical to) our slides, andnote our copyright of this material.Thanksand enjoy!  JFK/KWRAll material copyright 1996-2016J.F Kurose and K.W. Ross, All Rights Reserved7thedition Jim Kurose, Keith RossPearson/Addison WesleyApril 2016<1>IntroductionChapter 1: introductionour goal:§get “feel”and terminology§more depth, detail laterin course§approach:•use Internet as exampleoverview:§what’s the Internet?§what’s a protocol?§network edge; hosts, access net, physical media§network core: packet/circuit switching, Internet structure§performance: loss, delay, throughput§security§protocol layers, service models§history1-2<2>IntroductionChapter 1: roadmap1.1 what isthe Internet?1.2network edge§end systems, access networks, links1.3 network core§packet switching, circuit switching, network structure1.4 delay, loss, throughput in networks1.5protocol layers, service models1.6networks under attack: security1.7history1-3<3>IntroductionWhat’s the Internet: “nuts and bolts”view§billions of connected computing devices: •hosts =end systems•running network apps§communication links•fiber, copper, radio, satellite•transmission rate: bandwidth§packet switches:forward packets (chunks of data)•routersand switcheswiredlinkswirelesslinksroutersmartphonePCserverwirelesslaptop1-4mobile networkglobal ISPregional ISPhome networkinstitutionalnetwork<4>Introduction“Fun”Internet-connected devicesIP picture framehttp://www.ceiva.com/Web-enabled toaster +weather forecasterInternet phonesInternet refrigeratorSlingbox: watch,control cable TV remotely1-5Tweet-a-watt: monitor energy usesensorized,bedmattress<5>Introduction§Internet: “network of networks”•Interconnected ISPs§protocolscontrol sending, receiving of messages•e.g., TCP, IP, HTTP, Skype,  802.11§Internet  standards•RFC: Request for comments•IETF: Internet Engineering Task ForceWhat’s the Internet: “nuts and bolts”view1-6mobile networkglobal ISPregional ISPhome networkinstitutionalnetwork<6>What’s the Internet: a service view§infrastructure that provides services to applications:•Web, VoIP, email, games, e-commerce, social nets, …§provides programming interface to apps•hooks that allow sending and receiving  app programs to “connect”to Internet•provides service options, analogous to postal serviceIntroduction1-7mobile networkglobal ISPregional ISPhome networkinstitutionalnetwork<7>IntroductionWhat’s a protocol?human protocols:§“what’s the time?”§“I have a question”§introductions… specific messages sent… specific actions taken when messages received, or other eventsnetwork protocols:§machines rather than humans§all communication activity in Internet governed by protocolsprotocolsdefine format, orderof messages sent and receivedamong network entities, and actions takenon message transmission, receipt1-8<8>Introductiona human protocol and a computer network protocol:Q:other human protocols? HiHiGot thetime?2:00TCP connectionresponseGethttp://www.awl.com/kurose-ross<file>timeTCP connectionrequestWhat’s a protocol?1-9<9>IntroductionChapter 1: roadmap1.1 what isthe Internet?1.2 network edge§end systems, access networks, links1.3 network core§packet switching, circuit switching, network structure1.4 delay, loss, throughput in networks1.5protocol layers, service models1.6networks under attack: security1.7history1-10<10>IntroductionA closer look at network structure:§network edge:•hosts: clients and servers•servers often in data centers§access networks, physical media:wired, wireless communication links§network core: •interconnected routers•network of networks1-11mobile networkglobal ISPregional ISPhome networkinstitutionalnetwork<11>IntroductionAccess networks and physical mediaQ: How to connect end systems to edge router?§residential access nets§institutional access networks (school, company)§mobile access networkskeep in mind: §bandwidth (bits per second) of access network?§shared or dedicated?1-12<12>ISPIntroductionAccess network: digital subscriber line (DSL)central officetelephonenetworkDSLAMvoice, data transmittedat different frequencies overdedicated line to central office§use existingtelephone line to central office DSLAM•data over DSL phone line goes to Internet•voice over DSL phone line goes to telephone net§< 2.5 Mbps upstream transmission rate (typically < 1 Mbps)§< 24 Mbps downstream transmission rate (typically < 10 Mbps)DSLmodemsplitterDSL access multiplexer1-13<13>IntroductionAccess network: cable networkcablemodemsplitter…cable headendChannelsVIDEOVIDEOVIDEOVIDEOVIDEOVIDEODATADATACONTROL123456789frequency division multiplexing:different channels transmittedin different frequency bands1-14<14>ISPIntroductiondata, TV transmitted at different frequencies over shared cable distribution networkcablemodemsplitter…cable headendCMTScable modemtermination system§HFC: hybrid fiber coax•asymmetric: up to 30Mbps downstream transmission rate, 2 Mbps upstream transmission rate§network of cable, fiber attaches homes to ISP router•homes share access networkto cable headend •unlike DSL, which has dedicated access to central officeAccess network: cable network1-15<15>IntroductionAccess network: home networkto/from headend or central officecable or DSL modemrouter, firewall, NATwired Ethernet (1 Gbps)wireless access point (54 Mbps)wirelessdevicesoften combined in single box1-16<16>IntroductionEnterprise access networks (Ethernet)§typically used in companies, universities, etc.§10 Mbps, 100Mbps, 1Gbps, 10Gbps transmission rates§today, end systems typically connect into Ethernet switchEthernet switchinstitutional mail,web serversinstitutional routerinstitutional link to ISP (Internet)1-17<17>IntroductionWireless access networks§shared wirelessaccess network connects end system to router•via base station aka “access point”wireless LANs:§within building (100 ft.)§802.11b/g/n (WiFi): 11, 54, 450 Mbps transmission ratewide-area wireless access§provided by telco (cellular) operator, 10’s km§between 1 and 10 Mbps §3G, 4G: LTEto Internetto Internet1-18<18>Host: sends packetsof datahost sending function:§takes application message§breaks into smaller chunks, known as packets, of length Lbits§transmits packet into access network at transmission rate R•link transmission rate, aka link capacity, aka link bandwidthR: link transmission ratehost12two packets, Lbits eachpackettransmissiondelaytime needed totransmit L-bitpacket into linkL(bits)R(bits/sec)==1-19Introduction<19>IntroductionPhysical media§bit:propagates betweentransmitter/receiver pairs§physical link:what lies between transmitter & receiver§guided media: •signals propagate in solid media: copper, fiber, coax§unguided media:•signals propagate freely, e.g., radiotwisted pair (TP)§two insulated copper wires•Category 5: 100 Mbps, 1 Gbps Ethernet•Category 6: 10Gbps1-20<20>IntroductionPhysical media: coax, fibercoaxial cable:§two concentric copper conductors§bidirectional§broadband:•multiple channels on cable•HFCfiber optic cable:§glass fiber carrying light pulses, each pulse a bit§high-speed operation:•high-speed point-to-point transmission (e.g., 10’s-100’s Gbps transmission rate)§low error rate: •repeaters spaced far apart •immune to electromagnetic noise1-21<21>IntroductionPhysical media: radio§signal carried in electromagnetic spectrum§no physical “wire”§bidirectional§propagation environment effects:•reflection •obstruction by objects•interferenceradio link types:§terrestrial  microwave•e.g. up to 45 Mbps channels§LAN(e.g., WiFi)•54 Mbps§wide-area(e.g., cellular)•4G cellular: ~ 10 Mbps§satellite•Kbps to 45Mbps channel (or multiple smaller channels)•270 msec end-end delay•geosynchronous versus low altitude1-22<22>IntroductionChapter 1: roadmap1.1 what isthe Internet?1.2network edge§end systems, access networks, links1.3 network core§packet switching, circuit switching, network structure1.4 delay, loss, throughput in networks1.5protocol layers, service models1.6networks under attack: security1.7history1-23<23>Introduction§mesh of interconnected routers§packet-switching: hosts break application-layer messages into packets•forward packetsfrom one router to the next, across links on path from source to destination•each packet transmitted at full link capacityThe network core1-24<24>IntroductionPacket-switching: store-and-forward§takes L/Rseconds to transmit (push out) L-bit packet into link at Rbps§store and forward:entire packet must  arrive at router before it can be transmitted on next linkone-hop numerical example:§L= 7.5 Mbits§R= 1.5 Mbps§one-hop transmission delay = 5 secmore on delay shortly …1-25sourceRbpsdestination123Lbitsper packetRbps§end-end delay = 2L/R(assuming zero propagation delay)<25>IntroductionPacket Switching: queueing delay, lossABCR= 100 Mb/sR= 1.5 Mb/sDEqueue of packetswaiting for output link1-26queuing and loss: §if arrival rate (in bits) to link exceeds transmission rate of link for a period of time:•packets will queue, wait to be transmitted on link •packets can be dropped (lost) if memory (buffer) fills up<26>Two key network-core functionsforwarding:move packets from router’s input to appropriate router outputIntroduction1-27routing:determines source-destination route taken by packets§routing algorithmsrouting algorithmlocal forwarding tableheader valueoutput link010001010111100132211230111destination address in arrivingpacket’s header<27>IntroductionAlternative core: circuit switchingend-end resources allocated to, reserved for “call”between source & dest:§in diagram, each link has four circuits. •call gets 2ndcircuit in top link and 1stcircuit in right link.§dedicated resources: no sharing•circuit-like (guaranteed) performance§circuit segment idle if not used by call (no sharing)§commonly used in traditional telephone networks1-28<28>IntroductionCircuit switching: FDM versusTDMFDMfrequencytimeTDMfrequencytime4 usersExample:1-29<29>IntroductionPacket switching versus circuit switchingexample:§1 Mb/s link§each user: •100 kb/s when “active”•active 10% of time§circuit-switching:•10 users§packet switching:•with 35 users, probability > 10 active at same time is less than .0004 *packet switching allows more users to use network!Nusers1 Mbps linkQ:how did we get value 0.0004?Q:what happens if > 35 users ?…..1-30* Check out the online interactive exercises for more examples: http://gaia.cs.umass.edu/kurose_ross/interactive/<30>Introduction§great for bursty data•resource sharing•simpler, no call setup§excessive congestion possible:packet delay and loss•protocols needed for reliable data transfer, congestion control§Q:How to provide circuit-like behavior?•bandwidth guarantees needed for audio/video apps•still an unsolved problem (chapter 7)is packet switching a “slam dunk winner?”Q:human analogies of reserved resources (circuit switching) versus on-demand allocation (packet-switching)?Packet switching versus circuit switching1-31<31>Internet structure: network of networks§End systems connect to Internet via access ISPs (Internet Service Providers)•residential, company and university ISPs§Access ISPs in turn must be interconnected. •so that any two hosts can send packets to each other§Resulting network of networks is very complex•evolution was driven by economicsand national policies§Let’s take a stepwise approach to describe current Internet structureIntroduction1-32<32>Internet structure: network of networksQuestion: given millionsof access ISPs, how to connect them together?accessnetaccessnetaccessnetaccessnetaccessnetaccessnetaccessnetaccessnetaccessnetaccessnetaccessnetaccessnetaccessnetaccessnetaccessnetaccessnet………………Introduction1-33<33>Internet structure: network of networksOption: connect each access ISP to every other access ISP? accessnetaccessnet……………………connecting each access ISP to each other directly doesn’t scale: O(N2) connections.Introduction1-34accessnetaccessnetaccessnetaccessnetaccessnetaccessnet…accessnetaccessnetaccessnetaccessnet…accessnetaccessnetaccessnetaccessnet…<34>Internet structure: network of networksaccessnetaccessnetaccessnetaccessnetaccessnetaccessnetaccessnetaccessnetaccessnetaccessnetaccessnetaccessnetaccessnetaccessnetaccessnetaccessnet………………Option: connect each access ISP to one global transit ISP? Customerand provider ISPs have economic agreement.Introduction1-35globalISP<35>ISP CISP BISP AInternet structure: network of networksaccessnetaccessnetaccessnetaccessnetaccessnetaccessnetaccessnetaccessnetaccessnetaccessnetaccessnetaccessnetaccessnetaccessnetaccessnet………………But if one global ISP is viable business, there will be competitors ….Introduction1-36accessnet<36>ISP CISP BISP AInternet structure: network of networksaccessnetaccessnetaccessnetaccessnetaccessnetaccessnetaccessnetaccessnetaccessnetaccessnetaccessnetaccessnetaccessnetaccessnetaccessnet………………Introduction1-37accessnetBut if one global ISP is viable business, there will be competitors ….  which must be interconnectedIXPpeering linkInternet exchange point IXP<37>ISP CISP BISP AInternet structure: network of networksaccessnetaccessnetaccessnetaccessnetaccessnetaccessnetaccessnetaccessnetaccessnetaccessnetaccessnetaccessnet………………Introduction1-38accessnetIXPIXPaccessnetaccessnetaccessnetregional net… and regional networks may arise to connect access nets to ISPs <38>ISP CISP BISP AInternet structure: network of networksaccessnetaccessnetaccessnetaccessnetaccessnetaccessnetaccessnetaccessnetaccessnetaccessnetaccessnetaccessnet………………Introduction1-39accessnetIXPIXPaccessnetaccessnetaccessnetregional netContent provider network… and content provider networks  (e.g., Google, Microsoft,   Akamai) may run their own network, to bring services, content close to end users<39>IntroductionInternet structure: network of networks§at center: small # of well-connected large networks•“tier-1”commercial ISPs(e.g., Level 3, Sprint, AT&T, NTT), national & international coverage•content provider network (e.g., Google): private network that connects it data centers to Internet, often bypassing tier-1, regional ISPs1-40IXPIXPIXPTier 1 ISPTier 1 ISPGoogleRegional ISPRegional ISPaccessISPaccessISPaccessISPaccessISPaccessISPaccessISPaccessISPaccessISP<40>IntroductionTier-1 ISP: e.g., Sprint1-41…to/from customerspeeringto/from backbone…………POP: point-of-presence<41>IntroductionChapter 1: roadmap1.1 what isthe Internet?1.2network edge§end systems, access networks, links1.3 network core§packet switching, circuit switching, network structure1.4 delay, loss, throughput in networks1.5protocol layers, service models1.6networks under attack: security1.7history1-42<42>ABIntroductionHow do loss and delay occur?packets queuein router buffers§packet arrival rate to link (temporarily) exceeds output link capacity§packets queue, wait for turnpacket being transmitted (delay)packets queueing(delay)free (available) buffers: arriving packets dropped (loss) if no free buffers1-43<43>IntroductionFour sources of packet delaydproc: nodal processing§check bit errors§determine output link§typically < msecdqueue: queueing delay§time waiting at output link for transmission §depends on congestion level of router1-44propagationnodalprocessingqueueingdnodal= dproc+ dqueue+ dtrans+  dpropABtransmission<44>Introductiondtrans: transmission delay:§L: packet length (bits) §R: link bandwidth (bps)§dtrans= L/Rdprop: propagation delay:§d: length of physical link§s: propagation speed (~2x108m/sec)§dprop= d/sFour sources of packet delay1-45* Check out the Java applet for an interactive animation on trans vs. prop delaydtrans and dpropvery different* Check out the online interactive exercises for more examples: http://gaia.cs.umass.edu/kurose_ross/interactive/propagationnodalprocessingqueueingdnodal= dproc+ dqueue+ dtrans+  dpropABtransmission<45>IntroductionCaravan analogy§cars “propagate”at 100 km/hr§toll booth takes 12 sec to service car (bit transmission time)§car ~ bit; caravan ~ packet§Q:How long until caravan is lined up before 2nd toll booth?§time to “push”entire caravan through toll booth onto highway = 12*10 = 120 sec§time for last car to propagate from 1st to 2nd toll both: 100km/(100km/hr)= 1 hr§A:62 minutestoll boothtoll boothten-car caravan100 km100 km1-46<46>IntroductionCaravan analogy (more)§suppose cars now “propagate”at 1000 km/hr§and suppose toll booth now takes one min to service a car§Q:Will cars arrive to 2nd booth before all cars serviced at first booth?•A: Yes!after 7 min, first car arrives at second booth; three cars still at first boothtoll boothtoll boothten-car caravan100 km100 km1-47<47>Introduction§R:link bandwidth (bps)§L:packet length (bits)§a: average packet arrival ratetraffic intensity = La/R§La/R~ 0: avg. queueing delay small§La/R -> 1: avg. queueing delay large§La/R > 1: more “work”arriving than can be serviced, average delay infinite!average  queueing delayLa/R ~ 0La/R -> 11-48* Check online interactive animation on queuing and lossQueueing delay (revisited)<48>Introduction“Real”Internet delays and routes§what do “real”Internet delay & loss look like? §tracerouteprogram: provides delay measurement from source to router along end-end Internet path towards destination.  For all i:•sends three packets that will reach router ion path towards destination•router iwill return packets to sender•sender times interval between transmission and reply.3 probes3 probes3 probes1-49<49>Introduction“Real”Internet delays, routes1  cs-gw (128.119.240.254)  1 ms  1 ms  2 ms2  border1-rt-fa5-1-0.gw.umass.edu (128.119.3.145)  1 ms  1 ms  2 ms3  cht-vbns.gw.umass.edu (128.119.3.130)  6 ms 5 ms 5 ms4  jn1-at1-0-0-19.wor.vbns.net (204.147.132.129)  16 ms 11 ms 13 ms 5  jn1-so7-0-0-0.wae.vbns.net (204.147.136.136)  21 ms 18 ms 18 ms 6  abilene-vbns.abilene.ucaid.edu (198.32.11.9)  22 ms  18 ms  22 ms7  nycm-wash.abilene.ucaid.edu (198.32.8.46)  22 ms  22 ms  22 ms8  62.40.103.253 (62.40.103.253)  104 ms 109 ms 106 ms9  de2-1.de1.de.geant.net (62.40.96.129)  109 ms 102 ms 104 ms10  de.fr1.fr.geant.net (62.40.96.50)  113 ms 121 ms 114 ms11  renater-gw.fr1.fr.geant.net (62.40.103.54)  112 ms  114 ms  112 ms12  nio-n2.cssi.renater.fr (193.51.206.13)  111 ms  114 ms  116 ms13  nice.cssi.renater.fr (195.220.98.102)  123 ms  125 ms  124 ms14  r3t2-nice.cssi.renater.fr (195.220.98.110)  126 ms  126 ms  124 ms15  eurecom-valbonne.r3t2.ft.net (193.48.50.54)  135 ms  128 ms  133 ms16  194.214.211.25 (194.214.211.25)  126 ms  128 ms  126 ms17  * * *18  * * *19  fantasia.eurecom.fr (193.55.113.142)  132 ms  128 ms  136mstraceroute:gaia.cs.umass.edu to www.eurecom.fr3 delay measurements from gaia.cs.umass.edu to cs-gw.cs.umass.edu * means no response (probe lost, router not replying)trans-oceaniclink1-50* Do some traceroutes from exotic countries at www.traceroute.org<50>IntroductionPacket loss§queue (aka buffer) preceding link in buffer has finite capacity§packet arriving to full queue dropped (aka lost)§lost packet may be retransmitted by previous node, by source end system, or not at allABpacket being transmittedpacket arriving tofull buffer is lostbuffer (waiting area)1-51* Check out the Java applet for an interactive animation on queuing and loss<51>IntroductionThroughput§throughput:rate (bits/time unit) at which bits transferred between sender/receiver•instantaneous:rate at given point in time•average:rate over longer period of timeserver, withfile of F bits to send to clientlink capacityRsbits/seclink capacityRcbits/secserver sends bits (fluid) into pipepipe that can carryfluid at rateRsbits/sec)pipe that can carryfluid at rateRcbits/sec)1-52<52>IntroductionThroughput (more)§Rs< RcWhat is average end-end throughput?Rsbits/secRcbits/sec§Rs> RcWhat is average end-end throughput?link on end-end path that constrains  end-end throughputbottleneck linkRsbits/secRcbits/sec1-"
      ],
      "metadata": {
        "id": "RIa0KdG-zjFX"
      },
      "execution_count": null,
      "outputs": []
    }
  ]
}